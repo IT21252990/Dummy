{
 "cells": [
  {
   "cell_type": "code",
   "execution_count": 2,
   "id": "ab8665fe-81b4-41c8-a121-75ddea4f986a",
   "metadata": {},
   "outputs": [
    {
     "name": "stdout",
     "output_type": "stream",
     "text": [
      "2.2.2\n",
      "1.6.0\n"
     ]
    }
   ],
   "source": [
    "import numpy as np # linear algebra\n",
    "\n",
    "import pandas as pd \n",
    "import polars as pl\n",
    "\n",
    "print(pd.__version__)\n",
    "print(pl.__version__)"
   ]
  },
  {
   "cell_type": "code",
   "execution_count": 14,
   "id": "6eef076d-91c6-42a4-9b4d-9490e03f8d5e",
   "metadata": {},
   "outputs": [
    {
     "name": "stdout",
     "output_type": "stream",
     "text": [
      "2.2.2\n",
      "1.6.0\n"
     ]
    },
    {
     "name": "stderr",
     "output_type": "stream",
     "text": [
      "C:\\Users\\jayakal\\AppData\\Local\\Temp\\ipykernel_20096\\792326775.py:28: FutureWarning: 'T' is deprecated and will be removed in a future version, please use 'min' instead.\n",
      "  'col11' : pd.date_range('1900-01-01', periods=n, freq='T')\n"
     ]
    },
    {
     "name": "stdout",
     "output_type": "stream",
     "text": [
      "<class 'pandas.core.frame.DataFrame'>\n",
      "RangeIndex: 4000000 entries, 0 to 3999999\n",
      "Data columns (total 11 columns):\n",
      " #   Column  Dtype         \n",
      "---  ------  -----         \n",
      " 0   col01   int8          \n",
      " 1   col02   int16         \n",
      " 2   col03   int32         \n",
      " 3   col04   int64         \n",
      " 4   col05   float16       \n",
      " 5   col06   float32       \n",
      " 6   col07   float64       \n",
      " 7   col08   object        \n",
      " 8   col09   category      \n",
      " 9   col10   bool          \n",
      " 10  col11   datetime64[ns]\n",
      "dtypes: bool(1), category(1), datetime64[ns](1), float16(1), float32(1), float64(1), int16(1), int32(1), int64(1), int8(1), object(1)\n",
      "memory usage: 708.8 MB\n"
     ]
    },
    {
     "data": {
      "text/plain": [
       "None"
      ]
     },
     "metadata": {},
     "output_type": "display_data"
    }
   ],
   "source": [
    "def random_string_array(size , str_len):\n",
    "    # Generate random strings of length 'str_len'\n",
    "    chars = np.array(list('abcdefghijklmnopqrstuvwxyzABCDEFGHIJKLMNOQRSTUVWXYZ0123456789'))\n",
    "    return [''.join(np.random.choice(chars , str_len)) for _ in range(size) ]\n",
    "\n",
    "def create_table(n):\n",
    "    np.random.seed(42)\n",
    "    df = pd.DataFrame(\n",
    "        {\n",
    "            'col01' : np.random.randint(0,127, size= n).astype(np.int8),\n",
    "            'col02' : np.random.randint(0,32767, size= n).astype(np.int16),\n",
    "            'col03' : np.random.randint(0,40000, size= n).astype(np.int32),\n",
    "            'col04' : np.random.randint(0,4000, size= n).astype(np.int64),\n",
    "            'col05' : np.random.uniform(0, 1, size = n).astype(np.float16),\n",
    "            'col06' : np.random.uniform(0, 1, size = n).astype(np.float32),\n",
    "            'col07' : np.random.uniform(0, 1, size = n).astype(np.float64),\n",
    "            'col08' : random_string_array(n , 6),\n",
    "            'col09' : pd.Categorical(random_string_array(n , 6)),\n",
    "            'col10' : np.random.randint(0,1, size= n).astype(bool),\n",
    "            'col11' : pd.date_range('1900-01-01', periods=n, freq='T')\n",
    "        })\n",
    "    return df\n",
    "\n",
    "df = create_table(4000000)\n",
    "display(df.info(memory_usage=\"deep\"))\n",
    "df.to_csv(\"example.csv\", index=False)"
   ]
  },
  {
   "cell_type": "code",
   "execution_count": 8,
   "id": "e2291082-4150-4f2a-a004-e6899382bd8c",
   "metadata": {},
   "outputs": [],
   "source": [
    "import matplotlib.pyplot as plt\n",
    "import seaborn as sns\n",
    "plt.rcParams.update({'font.size': 14})\n",
    "\n",
    "def plot_comparison(pd_time, pl_time, title):\n",
    "    fig, ax = plt.subplots(nrows=1, ncols=1, figsize=(6, 6))\n",
    "    times = [pd_time.average, pl_time.average]\n",
    "    times = np.round(times, 3)\n",
    "\n",
    "    sns.barplot(x = ['Pandas',\n",
    "                   'Polars'], \n",
    "                y = times, color = 'white', edgecolor='black')\n",
    "\n",
    "\n",
    "    ax.patches[0].set(fill=False, hatch='.')\n",
    "\n",
    "    ax.set_title(f\"Comparison of {title}\")\n",
    "    ax.set_ylabel(\"Time to Execute [s]\")\n",
    "    ax.set_xlabel(\"Python Package\")\n",
    "    ax.bar_label(ax.containers[0])\n",
    "    plt.savefig(f'./pandas_vs_polars_{title}.png', transparent=False,  facecolor='white', bbox_inches=\"tight\")\n",
    "    plt.show()\n",
    "    "
   ]
  },
  {
   "cell_type": "code",
   "execution_count": 18,
   "id": "a1780080-968a-4cef-acd7-7fe835a093f9",
   "metadata": {},
   "outputs": [
    {
     "name": "stdout",
     "output_type": "stream",
     "text": [
      "<class 'pandas.core.frame.DataFrame'>\n",
      "RangeIndex: 4000000 entries, 0 to 3999999\n",
      "Data columns (total 11 columns):\n",
      " #   Column  Dtype  \n",
      "---  ------  -----  \n",
      " 0   col01   int64  \n",
      " 1   col02   int64  \n",
      " 2   col03   int64  \n",
      " 3   col04   int64  \n",
      " 4   col05   float64\n",
      " 5   col06   float64\n",
      " 6   col07   float64\n",
      " 7   col08   object \n",
      " 8   col09   object \n",
      " 9   col10   bool   \n",
      " 10  col11   object \n",
      "dtypes: bool(1), float64(3), int64(4), object(3)\n",
      "memory usage: 896.5 MB\n"
     ]
    },
    {
     "data": {
      "text/plain": [
       "None"
      ]
     },
     "metadata": {},
     "output_type": "display_data"
    }
   ],
   "source": [
    "df_pd = pd.read_csv(\"./example.csv\")\n",
    "display(df_pd.info(memory_usage=\"deep\"))\n",
    "\n",
    "df_pl = pl.read_csv(\"./example.csv\")"
   ]
  },
  {
   "cell_type": "code",
   "execution_count": 10,
   "id": "1f58b04c-c682-4138-b1e9-6c3b514b0deb",
   "metadata": {},
   "outputs": [
    {
     "name": "stdout",
     "output_type": "stream",
     "text": [
      "10.2 s ± 8.7 ms per loop (mean ± std. dev. of 4 runs, 32 loops each)\n"
     ]
    }
   ],
   "source": [
    "pd_time = %timeit -n32 -r4 -o df_pd = pd.read_csv(\"example.csv\")"
   ]
  },
  {
   "cell_type": "code",
   "execution_count": 11,
   "id": "91ad4da0-391f-4ae0-bfe8-39f4b9c4a944",
   "metadata": {},
   "outputs": [
    {
     "name": "stdout",
     "output_type": "stream",
     "text": [
      "435 ms ± 4.26 ms per loop (mean ± std. dev. of 4 runs, 32 loops each)\n"
     ]
    }
   ],
   "source": [
    "pl_time = %timeit -n32 -r4 -o df_pl = pl.read_csv(\"example.csv\")"
   ]
  },
  {
   "cell_type": "code",
   "execution_count": 15,
   "id": "097e0fc0-a4a8-43b1-a25d-4aa1a3d8439d",
   "metadata": {},
   "outputs": [
    {
     "name": "stdout",
     "output_type": "stream",
     "text": [
      "10.183757935937592\n"
     ]
    }
   ],
   "source": [
    "print(pd_time.average)"
   ]
  },
  {
   "cell_type": "code",
   "execution_count": 16,
   "id": "409f0b69-cf3b-4807-9c1c-dd06dc100fff",
   "metadata": {},
   "outputs": [
    {
     "ename": "TypeError",
     "evalue": "unsupported operand type(s) for *: 'TimeitResult' and 'float'",
     "output_type": "error",
     "traceback": [
      "\u001b[1;31m---------------------------------------------------------------------------\u001b[0m",
      "\u001b[1;31mTypeError\u001b[0m                                 Traceback (most recent call last)",
      "Cell \u001b[1;32mIn[16], line 1\u001b[0m\n\u001b[1;32m----> 1\u001b[0m plot_comparison(pd_time, pl_time, \u001b[38;5;124m'\u001b[39m\u001b[38;5;124mReading\u001b[39m\u001b[38;5;124m'\u001b[39m)\n",
      "Cell \u001b[1;32mIn[8], line 8\u001b[0m, in \u001b[0;36mplot_comparison\u001b[1;34m(pd_time, pl_time, title)\u001b[0m\n\u001b[0;32m      6\u001b[0m fig, ax \u001b[38;5;241m=\u001b[39m plt\u001b[38;5;241m.\u001b[39msubplots(nrows\u001b[38;5;241m=\u001b[39m\u001b[38;5;241m1\u001b[39m, ncols\u001b[38;5;241m=\u001b[39m\u001b[38;5;241m1\u001b[39m, figsize\u001b[38;5;241m=\u001b[39m(\u001b[38;5;241m6\u001b[39m, \u001b[38;5;241m6\u001b[39m))\n\u001b[0;32m      7\u001b[0m times \u001b[38;5;241m=\u001b[39m [pd_time, pl_time]\n\u001b[1;32m----> 8\u001b[0m times \u001b[38;5;241m=\u001b[39m np\u001b[38;5;241m.\u001b[39mround(times, \u001b[38;5;241m3\u001b[39m)\n\u001b[0;32m     10\u001b[0m sns\u001b[38;5;241m.\u001b[39mbarplot(x \u001b[38;5;241m=\u001b[39m [\u001b[38;5;124m'\u001b[39m\u001b[38;5;124mPandas\u001b[39m\u001b[38;5;124m'\u001b[39m,\n\u001b[0;32m     11\u001b[0m                \u001b[38;5;124m'\u001b[39m\u001b[38;5;124mPolars\u001b[39m\u001b[38;5;124m'\u001b[39m], \n\u001b[0;32m     12\u001b[0m             y \u001b[38;5;241m=\u001b[39m times, color \u001b[38;5;241m=\u001b[39m \u001b[38;5;124m'\u001b[39m\u001b[38;5;124mwhite\u001b[39m\u001b[38;5;124m'\u001b[39m, edgecolor\u001b[38;5;241m=\u001b[39m\u001b[38;5;124m'\u001b[39m\u001b[38;5;124mblack\u001b[39m\u001b[38;5;124m'\u001b[39m)\n\u001b[0;32m     15\u001b[0m ax\u001b[38;5;241m.\u001b[39mpatches[\u001b[38;5;241m0\u001b[39m]\u001b[38;5;241m.\u001b[39mset(fill\u001b[38;5;241m=\u001b[39m\u001b[38;5;28;01mFalse\u001b[39;00m, hatch\u001b[38;5;241m=\u001b[39m\u001b[38;5;124m'\u001b[39m\u001b[38;5;124m.\u001b[39m\u001b[38;5;124m'\u001b[39m)\n",
      "File \u001b[1;32m~\\AppData\\Local\\anaconda3\\Lib\\site-packages\\numpy\\core\\fromnumeric.py:3360\u001b[0m, in \u001b[0;36mround\u001b[1;34m(a, decimals, out)\u001b[0m\n\u001b[0;32m   3269\u001b[0m \u001b[38;5;129m@array_function_dispatch\u001b[39m(_round_dispatcher)\n\u001b[0;32m   3270\u001b[0m \u001b[38;5;28;01mdef\u001b[39;00m \u001b[38;5;21mround\u001b[39m(a, decimals\u001b[38;5;241m=\u001b[39m\u001b[38;5;241m0\u001b[39m, out\u001b[38;5;241m=\u001b[39m\u001b[38;5;28;01mNone\u001b[39;00m):\n\u001b[0;32m   3271\u001b[0m \u001b[38;5;250m    \u001b[39m\u001b[38;5;124;03m\"\"\"\u001b[39;00m\n\u001b[0;32m   3272\u001b[0m \u001b[38;5;124;03m    Evenly round to the given number of decimals.\u001b[39;00m\n\u001b[0;32m   3273\u001b[0m \n\u001b[1;32m   (...)\u001b[0m\n\u001b[0;32m   3358\u001b[0m \n\u001b[0;32m   3359\u001b[0m \u001b[38;5;124;03m    \"\"\"\u001b[39;00m\n\u001b[1;32m-> 3360\u001b[0m     \u001b[38;5;28;01mreturn\u001b[39;00m _wrapfunc(a, \u001b[38;5;124m'\u001b[39m\u001b[38;5;124mround\u001b[39m\u001b[38;5;124m'\u001b[39m, decimals\u001b[38;5;241m=\u001b[39mdecimals, out\u001b[38;5;241m=\u001b[39mout)\n",
      "File \u001b[1;32m~\\AppData\\Local\\anaconda3\\Lib\\site-packages\\numpy\\core\\fromnumeric.py:56\u001b[0m, in \u001b[0;36m_wrapfunc\u001b[1;34m(obj, method, *args, **kwds)\u001b[0m\n\u001b[0;32m     54\u001b[0m bound \u001b[38;5;241m=\u001b[39m \u001b[38;5;28mgetattr\u001b[39m(obj, method, \u001b[38;5;28;01mNone\u001b[39;00m)\n\u001b[0;32m     55\u001b[0m \u001b[38;5;28;01mif\u001b[39;00m bound \u001b[38;5;129;01mis\u001b[39;00m \u001b[38;5;28;01mNone\u001b[39;00m:\n\u001b[1;32m---> 56\u001b[0m     \u001b[38;5;28;01mreturn\u001b[39;00m _wrapit(obj, method, \u001b[38;5;241m*\u001b[39margs, \u001b[38;5;241m*\u001b[39m\u001b[38;5;241m*\u001b[39mkwds)\n\u001b[0;32m     58\u001b[0m \u001b[38;5;28;01mtry\u001b[39;00m:\n\u001b[0;32m     59\u001b[0m     \u001b[38;5;28;01mreturn\u001b[39;00m bound(\u001b[38;5;241m*\u001b[39margs, \u001b[38;5;241m*\u001b[39m\u001b[38;5;241m*\u001b[39mkwds)\n",
      "File \u001b[1;32m~\\AppData\\Local\\anaconda3\\Lib\\site-packages\\numpy\\core\\fromnumeric.py:45\u001b[0m, in \u001b[0;36m_wrapit\u001b[1;34m(obj, method, *args, **kwds)\u001b[0m\n\u001b[0;32m     43\u001b[0m \u001b[38;5;28;01mexcept\u001b[39;00m \u001b[38;5;167;01mAttributeError\u001b[39;00m:\n\u001b[0;32m     44\u001b[0m     wrap \u001b[38;5;241m=\u001b[39m \u001b[38;5;28;01mNone\u001b[39;00m\n\u001b[1;32m---> 45\u001b[0m result \u001b[38;5;241m=\u001b[39m \u001b[38;5;28mgetattr\u001b[39m(asarray(obj), method)(\u001b[38;5;241m*\u001b[39margs, \u001b[38;5;241m*\u001b[39m\u001b[38;5;241m*\u001b[39mkwds)\n\u001b[0;32m     46\u001b[0m \u001b[38;5;28;01mif\u001b[39;00m wrap:\n\u001b[0;32m     47\u001b[0m     \u001b[38;5;28;01mif\u001b[39;00m \u001b[38;5;129;01mnot\u001b[39;00m \u001b[38;5;28misinstance\u001b[39m(result, mu\u001b[38;5;241m.\u001b[39mndarray):\n",
      "\u001b[1;31mTypeError\u001b[0m: unsupported operand type(s) for *: 'TimeitResult' and 'float'"
     ]
    },
    {
     "data": {
      "image/png": "[encoded data removed]",
      "text/plain": [
       "<Figure size 600x600 with 1 Axes>"
      ]
     },
     "metadata": {},
     "output_type": "display_data"
    }
   ],
   "source": [
    "plot_comparison(pd_time, pl_time, 'Reading')"
   ]
  },
  {
   "cell_type": "code",
   "execution_count": null,
   "id": "5017506a-390d-4693-a371-448966aa0d09",
   "metadata": {},
   "outputs": [],
   "source": []
  }
 ],
 "metadata": {
  "kernelspec": {
   "display_name": "Python 3 (ipykernel)",
   "language": "python",
   "name": "python3"
  },
  "language_info": {
   "codemirror_mode": {
    "name": "ipython",
    "version": 3
   },
   "file_extension": ".py",
   "mimetype": "text/x-python",
   "name": "python",
   "nbconvert_exporter": "python",
   "pygments_lexer": "ipython3",
   "version": "3.12.4"
  }
 },
 "nbformat": 4,
 "nbformat_minor": 5
}
